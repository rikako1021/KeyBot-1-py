{
 "cells": [
  {
   "cell_type": "code",
   "execution_count": 19,
   "id": "9ac078da-251a-4b32-ae79-128cddcba997",
   "metadata": {
    "tags": []
   },
   "outputs": [
    {
     "name": "stdout",
     "output_type": "stream",
     "text": [
      "Requirement already satisfied: line-bot-sdk in /Users/bi19014/miniforge3/envs/ds_env/lib/python3.9/site-packages (1.20.0)\n",
      "Requirement already satisfied: future in /Users/bi19014/miniforge3/envs/ds_env/lib/python3.9/site-packages (from line-bot-sdk) (0.18.2)\n",
      "Requirement already satisfied: requests>=2.0 in /Users/bi19014/miniforge3/envs/ds_env/lib/python3.9/site-packages (from line-bot-sdk) (2.26.0)\n",
      "Requirement already satisfied: certifi>=2017.4.17 in /Users/bi19014/miniforge3/envs/ds_env/lib/python3.9/site-packages (from requests>=2.0->line-bot-sdk) (2021.5.30)\n",
      "Requirement already satisfied: idna<4,>=2.5 in /Users/bi19014/miniforge3/envs/ds_env/lib/python3.9/site-packages (from requests>=2.0->line-bot-sdk) (3.1)\n",
      "Requirement already satisfied: urllib3<1.27,>=1.21.1 in /Users/bi19014/miniforge3/envs/ds_env/lib/python3.9/site-packages (from requests>=2.0->line-bot-sdk) (1.26.6)\n",
      "Requirement already satisfied: charset-normalizer~=2.0.0 in /Users/bi19014/miniforge3/envs/ds_env/lib/python3.9/site-packages (from requests>=2.0->line-bot-sdk) (2.0.0)\n"
     ]
    }
   ],
   "source": [
    "!pip install line-bot-sdk"
   ]
  },
  {
   "cell_type": "code",
   "execution_count": 8,
   "id": "b424d2b2-cf48-462c-8ae2-202056b8e16a",
   "metadata": {},
   "outputs": [],
   "source": [
    "import json"
   ]
  },
  {
   "cell_type": "code",
   "execution_count": 9,
   "id": "dd0964aa-d79d-48e9-bdd6-e3bb139db109",
   "metadata": {},
   "outputs": [],
   "source": [
    "file = open('info.json', 'r')\n",
    "info = json.load(file)"
   ]
  },
  {
   "cell_type": "code",
   "execution_count": 13,
   "id": "3980bad1-9199-40da-b51b-04f9e4eb640c",
   "metadata": {},
   "outputs": [],
   "source": [
    "from linebot import LineBotApi\n",
    "from linebot.models import TextSendMessage"
   ]
  },
  {
   "cell_type": "code",
   "execution_count": 14,
   "id": "d7b5a471-f691-408b-a02a-d5acc958f593",
   "metadata": {
    "tags": []
   },
   "outputs": [],
   "source": [
    "CHANNEL_ACCESS_TOKEN = info[\"CHANNEL_ACCESS_TOKEN\"]\n",
    "line_bot_api = LineBotApi(CHANNEL_ACCESS_TOKEN)"
   ]
  },
  {
   "cell_type": "code",
   "execution_count": 18,
   "id": "e682f89f-8b33-4c59-9dfd-ac40447359fb",
   "metadata": {},
   "outputs": [],
   "source": [
    "def main():\n",
    "    USER_ID = info[\"USER_ID\"]\n",
    "    msg = TextSendMessage(text = \"鍵返しましたか\")\n",
    "    line_bot_api.push_message(USER_ID, messages=msg)\n",
    "    \n",
    "if __name__ == \"__main__\":\n",
    "    main()"
   ]
  }
 ],
 "metadata": {
  "kernelspec": {
   "display_name": "Python 3 (ipykernel)",
   "language": "python",
   "name": "python3"
  },
  "language_info": {
   "codemirror_mode": {
    "name": "ipython",
    "version": 3
   },
   "file_extension": ".py",
   "mimetype": "text/x-python",
   "name": "python",
   "nbconvert_exporter": "python",
   "pygments_lexer": "ipython3",
   "version": "3.9.6"
  }
 },
 "nbformat": 4,
 "nbformat_minor": 5
}
